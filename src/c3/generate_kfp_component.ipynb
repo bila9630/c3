{
 "cells": [
  {
   "cell_type": "code",
   "execution_count": null,
   "id": "2fc91001",
   "metadata": {},
   "outputs": [],
   "source": [
    "from notebook import Notebook\n",
    "import os\n",
    "import shutil\n",
    "from string import Template\n",
    "import sys\n",
    "from io import StringIO\n",
    "from enum import Enum\n",
    "import logging\n",
    "import re"
   ]
  },
  {
   "cell_type": "code",
   "execution_count": null,
   "id": "0a0b99ea-4fdd-4f65-bb3d-1057c5eb5c05",
   "metadata": {},
   "outputs": [],
   "source": [
    "root = logging.getLogger()\n",
    "root.setLevel('INFO')\n",
    "\n",
    "handler = logging.StreamHandler(sys.stdout)\n",
    "handler.setLevel('INFO')\n",
    "formatter = logging.Formatter('%(asctime)s - %(name)s - %(levelname)s - %(message)s')\n",
    "handler.setFormatter(formatter)\n",
    "root.addHandler(handler)\n",
    "\n",
    "\n",
    "parameters = list(\n",
    "    map(lambda s: re.sub('$', '\"', s),\n",
    "        map(\n",
    "            lambda s: s.replace('=', '=\"'),\n",
    "            filter(\n",
    "                lambda s: s.find('=') > -1 and bool(re.match(r'[A-Za-z0-9_]*=[.\\/A-Za-z0-9]*', s)),\n",
    "                sys.argv\n",
    "            )\n",
    "    )))\n",
    "\n",
    "logging.info('Logging parameters: ' + ''.join(parameters))\n",
    "for parameter in parameters:\n",
    "    logging.info('Parameter: ' + parameter)\n",
    "    exec(parameter)"
   ]
  },
  {
   "cell_type": "code",
   "execution_count": null,
   "id": "141b9a18-c302-4360-bfec-ac2c5b29fad9",
   "metadata": {},
   "outputs": [],
   "source": [
    "#version=\"0.1n\"\n",
    "#notebook_path = '../component-library/input/input-url.ipynb'"
   ]
  },
  {
   "cell_type": "code",
   "execution_count": null,
   "id": "055a924f-ae8f-40c4-ab5c-91f136cee8ab",
   "metadata": {},
   "outputs": [],
   "source": [
    "nb = Notebook(notebook_path)"
   ]
  },
  {
   "cell_type": "code",
   "execution_count": null,
   "id": "40670316-3b8f-41a5-99b5-12c9162627f1",
   "metadata": {},
   "outputs": [],
   "source": [
    "name = nb.get_name()\n",
    "description = nb.get_description() + \" CLAIMED v\"+ version\n",
    "inputs = nb.get_inputs()\n",
    "outputs = nb.get_outputs()\n",
    "requirements = nb.get_requirements()"
   ]
  },
  {
   "cell_type": "code",
   "execution_count": null,
   "id": "92c0f904-8afd-4130-8c27-ac955fb61266",
   "metadata": {},
   "outputs": [],
   "source": [
    "print(name)\n",
    "print(description)\n",
    "print(inputs)\n",
    "print(outputs)\n",
    "print(requirements)"
   ]
  },
  {
   "cell_type": "code",
   "execution_count": null,
   "id": "0604b83b-88c5-4fa7-a2bb-b452d80e2a61",
   "metadata": {},
   "outputs": [],
   "source": [
    "!echo {notebook_path}"
   ]
  },
  {
   "cell_type": "code",
   "execution_count": 4,
   "id": "e271b688-b307-4bc9-803c-4c8bed0761ae",
   "metadata": {},
   "outputs": [],
   "source": [
    "def check_variable(var_name):\n",
    "    return var_name in locals() or var_name in globals()\n"
   ]
  },
  {
   "cell_type": "code",
   "execution_count": null,
   "id": "5c0fcb61-43e3-4711-919c-078da0a02e72",
   "metadata": {},
   "outputs": [],
   "source": [
    "#target_code = notebook_path.replace('.ipynb','.py').split('/')[-1:][0]\n",
    "\n",
    "target_code = notebook_path.split('/')[-1:][0]\n",
    "shutil.copy(notebook_path,target_code)\n",
    "if check_variable('additionl_files'):\n",
    "    if additionl_files.startswith('['):\n",
    "        local_path = 'additionl_file_path'\n",
    "        if not os.path.exists(local_path):\n",
    "            os.makedirs(local_path)\n",
    "        additionl_files_local = local_path\n",
    "        additionl_files=additionl_files[1:-1].split(',')\n",
    "        print('Additional files to add to container:')\n",
    "        for additionl_file in additionl_files:\n",
    "            print(additionl_file)\n",
    "            shutil.copy(additionl_file, additionl_files_local)\n",
    "        print(os.listdir(local_path))\n",
    "    else:\n",
    "        additionl_files_local = additionl_files.split('/')[-1:][0]\n",
    "        shutil.copy(additionl_files,additionl_files_local)\n",
    "else:\n",
    "    additionl_files_local=target_code #hack"
   ]
  },
  {
   "cell_type": "code",
   "execution_count": null,
   "id": "f67a914e-70b2-4ab6-ab37-121195b59ec4",
   "metadata": {},
   "outputs": [],
   "source": [
    "import re\n",
    "\n",
    "file = target_code\n",
    "\n",
    "# they can be also raw string and regex\n",
    "textToSearch = r'!pip' \n",
    "textToReplace = '#!pip'\n",
    "\n",
    "# read and replace\n",
    "with open(file, 'r') as fd:\n",
    "    text, counter = re.subn(textToSearch, textToReplace, fd.read(), re.I)\n",
    "\n",
    "# check if there is at least a  match\n",
    "if counter > 0:\n",
    "    # edit the file\n",
    "    with open(file, 'w') as fd:\n",
    "        fd.write(text)"
   ]
  },
  {
   "cell_type": "code",
   "execution_count": null,
   "id": "fa5c5b41-1637-456b-9193-fdd7c680c490",
   "metadata": {},
   "outputs": [],
   "source": [
    "requirements_docker = list(map(lambda s: 'RUN '+s, requirements))"
   ]
  },
  {
   "cell_type": "code",
   "execution_count": null,
   "id": "21beb828-c09b-42c0-9b89-94a143d55a03",
   "metadata": {},
   "outputs": [],
   "source": [
    "requirements_docker = '\\n'.join(requirements_docker)\n",
    "docker_file = f\"\"\"\n",
    "FROM registry.access.redhat.com/ubi8/python-39 \n",
    "USER root\n",
    "RUN dnf install -y java-11-openjdk\n",
    "USER default\n",
    "RUN pip install ipython==8.6.0 nbformat==5.7.0\n",
    "{requirements_docker}\n",
    "ADD {additionl_files_local} /opt/app-root/src/\n",
    "ADD {target_code} /opt/app-root/src/\n",
    "USER root\n",
    "RUN chmod -R 777 /opt/app-root/src/\n",
    "USER default\n",
    "CMD [\"ipython\", \"/opt/app-root/src/{target_code}\"]\n",
    "\"\"\"\n",
    "with open(\"Dockerfile\", \"w\") as text_file:\n",
    "    text_file.write(docker_file)\n",
    "!cat Dockerfile"
   ]
  },
  {
   "cell_type": "code",
   "execution_count": null,
   "id": "db44dd53-ee2f-497a-b9a0-e92cfcfd7ef7",
   "metadata": {
    "scrolled": true,
    "tags": []
   },
   "outputs": [],
   "source": [
    "!docker build --platform=linux/amd64 -t `echo claimed-{name}:{version}` .\n",
    "!docker tag  `echo claimed-{name}:{version}` `echo {repository}/claimed-{name}:{version}`\n",
    "!docker tag  `echo claimed-{name}:{version}` `echo {repository}/claimed-{name}:latest`\n",
    "!docker push `echo {repository}/claimed-{name}:{version}`\n",
    "!docker push `echo {repository}/claimed-{name}:latest`"
   ]
  },
  {
   "cell_type": "code",
   "execution_count": null,
   "id": "8747a2f1-ed15-41ea-b864-d4482e751eb5",
   "metadata": {},
   "outputs": [],
   "source": [
    "parameter_type = Enum('parameter_type', ['INPUT', 'OUTPUT'])\n",
    "\n",
    "def get_component_interface(parameters, type : parameter_type):\n",
    "    template_string = str()\n",
    "    for parameter_name, parameter_options in parameters.items():\n",
    "        default = ''\n",
    "        if parameter_options['default'] is not None and type == parameter_type.INPUT:\n",
    "                default = f\", default: {parameter_options['default']}\"\n",
    "        template_string += f\"- {{name: {parameter_name}, type: {parameter_options['type']}, description: {parameter_options['description']}{default}}}\"\n",
    "        template_string += '\\n'\n",
    "    return template_string"
   ]
  },
  {
   "cell_type": "code",
   "execution_count": null,
   "id": "27608ff6-60b7-4921-b360-4cafb6d8b11d",
   "metadata": {},
   "outputs": [],
   "source": [
    "def get_output_name():\n",
    "    for output_key, output_value in outputs.items():\n",
    "        return output_key"
   ]
  },
  {
   "cell_type": "code",
   "execution_count": null,
   "id": "9b44cadc-b5e7-4cef-8ebd-f3bcf5a56328",
   "metadata": {},
   "outputs": [],
   "source": [
    "\n",
    "def get_input_for_implementation():\n",
    "    with StringIO() as inputs_str:\n",
    "        for input_key, input_value in inputs.items():\n",
    "            t = Template(\"        - {inputValue: $name}\")\n",
    "            print(t.substitute(name=input_key), file=inputs_str)\n",
    "        return inputs_str.getvalue()    "
   ]
  },
  {
   "cell_type": "code",
   "execution_count": null,
   "id": "dd6c276c-1e4d-4212-a7b8-469a0310adea",
   "metadata": {},
   "outputs": [],
   "source": [
    "def get_parameter_list():\n",
    "    return_value = str()\n",
    "    index = 0\n",
    "    for output_key, output_value in outputs.items():\n",
    "        return_value = return_value + output_key + '=\"${' + str(index) + '}\" '\n",
    "        index = index + 1\n",
    "    for input_key, input_value in inputs.items():\n",
    "        return_value = return_value + input_key + '=\"${' + str(index) + '}\" '\n",
    "        index = index + 1\n",
    "    return return_value      "
   ]
  },
  {
   "cell_type": "code",
   "execution_count": null,
   "id": "9168a5bd-76a5-4ae4-baf9-018397fa1d80",
   "metadata": {},
   "outputs": [],
   "source": [
    "\n",
    "t = Template('''name: $name\n",
    "description: $description\n",
    "\n",
    "inputs:\n",
    "$inputs\n",
    "\n",
    "implementation:\n",
    "    container:\n",
    "        image: $container_uri:$version\n",
    "        command:\n",
    "        - sh\n",
    "        - -ec\n",
    "        - |\n",
    "          ipython $call\n",
    "$input_for_implementation''')\n",
    "yaml = t.substitute(\n",
    "            name=name,\n",
    "            description=description,\n",
    "            inputs=get_component_interface(inputs, parameter_type.INPUT),\n",
    "            container_uri=f\"{repository}/claimed-{name}\",\n",
    "            version=version,\n",
    "            outputPath=get_output_name(),\n",
    "            input_for_implementation=get_input_for_implementation(),\n",
    "            call=f'./{target_code} {get_parameter_list()}' \n",
    "        )\n",
    "print(yaml)"
   ]
  },
  {
   "cell_type": "code",
   "execution_count": null,
   "id": "320e6d14-9584-4154-a225-437f6026fe4b",
   "metadata": {},
   "outputs": [],
   "source": [
    "target_yaml_path = notebook_path.replace('.ipynb','.yaml')\n",
    "\n",
    "with open(target_yaml_path, \"w\") as text_file:\n",
    "    text_file.write(yaml)"
   ]
  },
  {
   "cell_type": "code",
   "execution_count": null,
   "id": "83115456",
   "metadata": {},
   "outputs": [],
   "source": [
    "env_entries = []\n",
    "for input_key, _ in inputs.items():\n",
    "    env_entry = f\"        - name: {input_key}\\n          value: value_of_{input_key}\"\n",
    "    env_entries.append(env_entry)\n",
    "    env_entries.append('\\n')\n",
    "env_entries.pop(-1)\n",
    "env_entries = ''.join(env_entries)\n"
   ]
  },
  {
   "cell_type": "code",
   "execution_count": null,
   "id": "1d40b282",
   "metadata": {},
   "outputs": [],
   "source": [
    "job_yaml = f'''apiVersion: batch/v1\n",
    "kind: Job\n",
    "metadata:\n",
    "  name: {name}\n",
    "spec:\n",
    "  template:\n",
    "    spec:\n",
    "      containers:\n",
    "      - name: {name}\n",
    "        image: {repository}/claimed-{name}:{version}\n",
    "        command: [\"/opt/app-root/bin/ipython\",\"/opt/app-root/src/{target_code}\"]\n",
    "        env:\n",
    "{env_entries}\n",
    "      restartPolicy: OnFailure'''\n",
    "\n",
    "\n",
    "print(job_yaml)"
   ]
  },
  {
   "cell_type": "code",
   "execution_count": null,
   "id": "52a6bafb",
   "metadata": {},
   "outputs": [],
   "source": [
    "target_job_yaml_path = notebook_path.replace('.ipynb','.job.yaml')\n",
    "\n",
    "with open(target_job_yaml_path, \"w\") as text_file:\n",
    "    text_file.write(job_yaml)"
   ]
  }
 ],
 "metadata": {
  "kernelspec": {
   "display_name": "Python 3 (ipykernel)",
   "language": "python",
   "name": "python3"
  },
  "language_info": {
   "codemirror_mode": {
    "name": "ipython",
    "version": 3
   },
   "file_extension": ".py",
   "mimetype": "text/x-python",
   "name": "python",
   "nbconvert_exporter": "python",
   "pygments_lexer": "ipython3",
   "version": "3.10.11"
  }
 },
 "nbformat": 4,
 "nbformat_minor": 5
}
